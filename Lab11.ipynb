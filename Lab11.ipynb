{
 "cells": [
  {
   "cell_type": "markdown",
   "metadata": {},
   "source": [
    "# Lab 11 - Harnessing Evolution  \n",
    "**COMP130 - Introduction to Computing**  \n",
    "**Dickinson College**  "
   ]
  },
  {
   "cell_type": "markdown",
   "metadata": {},
   "source": [
    "### Names:"
   ]
  },
  {
   "cell_type": "markdown",
   "metadata": {},
   "source": []
  },
  {
   "cell_type": "markdown",
   "metadata": {},
   "source": [
    "### Natural and Simulated Evolution\n",
    "\n",
    "Evolution is a natural process that over time hones the form and function of a population to the environment in which it lives.  So, in some sense what evolution is doing is solving the problem of finding a group of individuals that are well suited to their environments.  Given that view, it isn't a big leap to imagine using a simulation of evolution to find a collection of good solutions (individuals) to a problem (environment).  This is a powerful idea that computer scientists have called a *genetic algorithm* and has been used successfully applied to [a wide range of real-world problems](https://www.brainz.org/15-real-world-applications-genetic-algorithms/).\n",
    "\n",
    "In this lab you will be using Python code to create a *genetic algorithm* that simulates evolution. You will apply your algorithm to a problem that while a little contrived illustrates the power of the approach. Hopefully this experience will both improve your understanding of how evolution works and give you some insight into how *genetic algorithms* can be used as a problem solving tool."
   ]
  },
  {
   "cell_type": "markdown",
   "metadata": {},
   "source": [
    "__Q1:__ Describe in a few sentences of your own words how natural evolution works?"
   ]
  },
  {
   "cell_type": "markdown",
   "metadata": {},
   "source": []
  },
  {
   "cell_type": "markdown",
   "metadata": {},
   "source": [
    "### Evolutionary Structures and Processes\n",
    "\n",
    "In natural evolution *genes* encode the basic form and function of an *individual*.  The individuals in a *population* compete with each other to reproduce and create *offspring*.  For example, they compete for the resources to survive until reaching reproductive age and in species that reproduce sexually they compete for reproductive partners.  This competition makes it so that the better suited an individual is to its environment (Can it live long enough? Is it attractive to a mate?) the greater its chances of producing offspring through *reproduction*.  This is what Charles Darwin referred to as \"survival of the fittest.\" He meant not that a particular fit individual would survive, but rather that the individuals best suited to their environment (i.e. those with high *fitness*) will tend to reproduce more frequently. Thus, the genes (and associated traits) that confer fitness to individuals will survive by being passed on to offspring through reproduction. It is this unconscious competitive *selection* of the fittest individuals as the parents of the next *generation* of offspring that, over time, hones the form and function of a population to suit its environment."
   ]
  },
  {
   "cell_type": "markdown",
   "metadata": {},
   "source": [
    "__Q2:__ Based on the above paragraph write a one-sentence working definition for each of the following terms:\n",
    "  - Genes\n",
    "  - Individual\n",
    "  - Population\n",
    "  - Reproduction\n",
    "  - Offspring\n",
    "  - Fitness\n",
    "  - Selection"
   ]
  },
  {
   "cell_type": "markdown",
   "metadata": {},
   "source": []
  },
  {
   "cell_type": "markdown",
   "metadata": {},
   "source": [
    "### Genes & Problems\n",
    "\n",
    "In natural evolution genes are part of a DNA string. The value of a gene, its *allele*, is represented as a string of [A's, C's, G's and T's](https://www.genome.gov/genetics-glossary/acgt) where the letters indicate the sequence of the *bases* adenine (A), cytosine (C), guanine (G), and thymine (T).  The structure of DNA and that it uses these four bases is a product of our physical word.  When simulating evolution in a computer we have no such constraints and can create our own *virtual DNA* using whatever set of *bases* we like.  Thus, we are free to choose a set of bases for our virtual DNA that matches the problem we are trying to solve.\n",
    "\n",
    "For example, if we are trying to:\n",
    "  - [design a new molecule](https://link.springer.com/article/10.1023/A:1021928016359) for a particular purpose we might use chemical symbols as our alphabet.  \n",
    "  - [find the best aerodynamic shape](https://journals.sagepub.com/doi/abs/10.1177/0954406217700181) for a car we might use numbers indicating the coefficients of an equation as our alphabet.  \n",
    "  - [compose music](https://link.springer.com/chapter/10.1007/11539902_158) we might use musical notes as our alphabet.\n",
    "  \n",
    "The test problem we will use in this lab is to use evolution to find the sequence of letters that compose lines from Shakespearian sonnets. For example:\n",
    "  - Shall I compare thee to a summer’s day?\n",
    "  - To me, fair friend, you never can be old,\n",
    "  - From fairest creatures we desire increase,\n",
    "\n",
    "To keep it simple we will assume when running the program that the target line is all uppercase has had all of its punctuation removed. For example:\n",
    "  - SHALL I COMPARE THEE TO A SUMMERS DAY\n",
    "  - TO ME FAIR FRIEND YOU NEVER CAN BE OLD\n",
    "  - FROM FAIREST CREATURES WE DESIRE INCREASE\n",
    "\n",
    "Thus, for our problem the alphabet will be the standard upper case Latin alphabet plus a blank space."
   ]
  },
  {
   "cell_type": "markdown",
   "metadata": {},
   "source": [
    "__Q3:__ Write a statement that defines a variable named `gene_alphabet` and assign it a `String` value containing all of the uppercase letters `A` to `Z` and a blank space."
   ]
  },
  {
   "cell_type": "code",
   "execution_count": null,
   "metadata": {},
   "outputs": [],
   "source": []
  },
  {
   "cell_type": "markdown",
   "metadata": {},
   "source": [
    "The following questions ask you to perform a few basic operations that will help to prepare you for some of the code you will need to write later."
   ]
  },
  {
   "cell_type": "markdown",
   "metadata": {},
   "source": [
    "__Q4:__ Write statements that pick and display a randomly chosen character from the `gene_alphabet`."
   ]
  },
  {
   "cell_type": "code",
   "execution_count": null,
   "metadata": {},
   "outputs": [],
   "source": []
  },
  {
   "cell_type": "markdown",
   "metadata": {},
   "source": [
    "__Q5:__ Write statements that replace a randomly chosen character in the string `A TEST` with the letter `X`. Recall that you cannot change a character within a String.  Thus, you will have to create a new `String`.  Be sure to run your statements enough times to ensure the every letter in `A TEST` can be replaced and that no errors occur."
   ]
  },
  {
   "cell_type": "code",
   "execution_count": null,
   "metadata": {},
   "outputs": [],
   "source": []
  },
  {
   "cell_type": "markdown",
   "metadata": {},
   "source": [
    "__Q6:__ Combine your solutions to the prior to questions to replace a randomly chosen character in the string `A TEST` with a randomly chosen letter from the `gene_alphabet`.  Be sure to run your statements enough times to ensure the every letter in `A TEST` can be replaced and that no errors occur."
   ]
  },
  {
   "cell_type": "code",
   "execution_count": null,
   "metadata": {},
   "outputs": [],
   "source": []
  },
  {
   "cell_type": "markdown",
   "metadata": {},
   "source": [
    "### Creating Individuals\n",
    "\n",
    "In a genetic algorithm an *individual* is a possible solution to the target problem.  For our problem that means that an individual will be a `String` of letters from the `gene_alphabet` that has the same length as the sonnet line. Initially, each individual will be completely random - so not a very good solution - but a possible solution none the less. The evolutionary process will then slowly *select* and *reproduce* individuals until it finds the correct sequence of letters.\n",
    "\n",
    "In this section you will write a function that creates a random individual."
   ]
  },
  {
   "cell_type": "markdown",
   "metadata": {},
   "source": [
    "__Q7:__ Define a function named `make_individual` that accepts two arguments, the size of the individual (i.e. number of characters) and the alphabet to be used.  The `make_individual` function should return a `String` containing an individual of the correct size composed of characters randomly chosen from the alphabet."
   ]
  },
  {
   "cell_type": "code",
   "execution_count": null,
   "metadata": {},
   "outputs": [],
   "source": []
  },
  {
   "cell_type": "markdown",
   "metadata": {},
   "source": [
    "You can run the automated test code in the cell below to check if your `make_individual` function is working correctly."
   ]
  },
  {
   "cell_type": "code",
   "execution_count": null,
   "metadata": {
    "deletable": false,
    "editable": false
   },
   "outputs": [],
   "source": [
    "test_alpha='abc 123'\n",
    "for test in range(100):\n",
    "    ind = make_individual(15,test_alpha)\n",
    "    assert len(ind)==15, 'Individual is not the correct length'\n",
    "    for let in ind:\n",
    "        assert let in test_alpha, 'Some character is not in the alphabet'\n",
    "    \n",
    "print(\"Success!\")"
   ]
  },
  {
   "cell_type": "markdown",
   "metadata": {},
   "source": [
    "__Q8:__ Write statements that use your `make_individual` function to create and display 10 random individuals of length 10 using the `gene_alphabet`."
   ]
  },
  {
   "cell_type": "code",
   "execution_count": null,
   "metadata": {},
   "outputs": [],
   "source": []
  },
  {
   "cell_type": "markdown",
   "metadata": {},
   "source": [
    "### Evaluating Fitness\n",
    "\n",
    "The *fitness* of an individual in evolution is a measure of how well suited it is to its environment. Recall that in a genetic algorithm an individual is a potential solution to the problem.  Thus, the fitness of an individual is a measure of the quality of the solution represented by the individual.  \n",
    "\n",
    "In our case of trying to evolve a string of letters to match a line from a sonnet, the number of letters that match between the individual and the sonnet line will make a good measure of quality."
   ]
  },
  {
   "cell_type": "markdown",
   "metadata": {},
   "source": [
    "__Q9:__ Write a function named `evaluate_fitness` that has two parameters, one for the individual and the other for the target sonnet line we are trying to match.  This function should count and return the number of characters that match (e.g. \"ABC\" has 2 matches with \"AEC\"). "
   ]
  },
  {
   "cell_type": "code",
   "execution_count": null,
   "metadata": {},
   "outputs": [],
   "source": []
  },
  {
   "cell_type": "markdown",
   "metadata": {},
   "source": [
    "__Q10:__ Write a few automated tests in the cell below that check that your `evaluate_fitness` function is working correctly.  Hint: Call `evaluate_fitness` in an `assert` using two strings where you know the answer."
   ]
  },
  {
   "cell_type": "code",
   "execution_count": null,
   "metadata": {},
   "outputs": [],
   "source": []
  },
  {
   "cell_type": "markdown",
   "metadata": {},
   "source": [
    "### Reproduction\n",
    "\n",
    "*Reproduction* is the process by which two parent individuals produce an offspring.  In a genetic algorithm reproduction is modeled using two operations *crossover* and *mutation*.  The crossover operation simulates the combination of genetic information from the parents, taking some genes from each parent to produce the child.  The mutation operation simulates the random copying errors that occur (*genetic mutations*) when genes are copied. "
   ]
  },
  {
   "cell_type": "markdown",
   "metadata": {},
   "source": [
    "__Q11:__ In crossover, the first part of one parent's virtual DNA is combined with the latter part of the other parent's virtual DNA.  Write a function named `crossover` that takes two `Strings` representing parents as arguments and returns a new string representing their *offspring*. The function should pick a random *crossover point*.  The child should be created by taking the characters up to the crossover point from the first parent and the characters after the crossover point from the second parent."
   ]
  },
  {
   "cell_type": "code",
   "execution_count": null,
   "metadata": {},
   "outputs": [],
   "source": []
  },
  {
   "cell_type": "markdown",
   "metadata": {},
   "source": [
    "__Q12:__ Write statements that use your `crossover` function to create and display 10 offspring generated from the parents `'ABCD'` and `'1234'`. Run these statements and examine the results carefully to ensure that the offspring are being created correctly.  Note that it is possible for crossover to occur at the first or last character and thus you should occasionally see the first or second parent with no changes. "
   ]
  },
  {
   "cell_type": "code",
   "execution_count": null,
   "metadata": {},
   "outputs": [],
   "source": []
  },
  {
   "cell_type": "markdown",
   "metadata": {},
   "source": [
    "__Q13:__ In mutation, a random location in the virtual DNA of an individual is changed to another random character from the alphabet.  Write a function named `mutate` that takes two arguments, the individual to be mutated and the alphabet to be used.  This function should return a mutated version of the individual where one character at random has been replaced by a random character from the alphabet."
   ]
  },
  {
   "cell_type": "code",
   "execution_count": null,
   "metadata": {},
   "outputs": [],
   "source": []
  },
  {
   "cell_type": "markdown",
   "metadata": {},
   "source": [
    "__Q14:__ Write statements that use your `mutate` function to create and display 10 mutants generated from the individual `'ABCDEFG'` using the alphabet `'123456'`. Run these statements enough times to ensure that every character in the individual is mutated at least once."
   ]
  },
  {
   "cell_type": "code",
   "execution_count": null,
   "metadata": {},
   "outputs": [],
   "source": []
  },
  {
   "cell_type": "markdown",
   "metadata": {},
   "source": [
    "__Q15:__ To *reproduce* two parents in a genetic algorithm the *crossover* and *mutation* operations are combined. Two parents are crossed over to create an offspring and then the offspring is mutated, possibly multiple times.  Write a function named `reproduce` that takes 4 arguments:\n",
    "  - The two parents to be reproduced.\n",
    "  - The number of mutations to apply (i.e. how many times to call `mutate`)\n",
    "  - The alphabet to be used for mutation.\n",
    "\n",
    "Your `reproduce` function should return the offspring produced by the crossover and mutation operations."
   ]
  },
  {
   "cell_type": "code",
   "execution_count": null,
   "metadata": {},
   "outputs": [],
   "source": []
  },
  {
   "cell_type": "markdown",
   "metadata": {},
   "source": [
    "__Q16:__ Write statements that use your `reproduce` function to generate 10 offspring from the parents `ABCDE` and `12345`, each with 2 mutations using the alphabet `xyz`.  Run these statements and examine the results carefully enough to convince yourself that your `reproduce` function is working."
   ]
  },
  {
   "cell_type": "code",
   "execution_count": null,
   "metadata": {},
   "outputs": [],
   "source": []
  },
  {
   "cell_type": "markdown",
   "metadata": {},
   "source": [
    "__Q17:__ Pick one of the results from __Q16__ and explain how it was generated from the parents through crossover and mutation."
   ]
  },
  {
   "cell_type": "markdown",
   "metadata": {},
   "source": []
  },
  {
   "cell_type": "markdown",
   "metadata": {},
   "source": [
    "### Population\n",
    "\n",
    "A *population* is a collection of *individuals*.  When the genetic algorithm is started the population is filled with randomly generated individuals.  It is the proverbial *primordial soup* if you will.  Over time, repeated cycles of selection and reproduction the population comes to be filled with individuals that are better and better at solving the problem (i.e. they have higher and higher fitness)."
   ]
  },
  {
   "cell_type": "markdown",
   "metadata": {},
   "source": [
    "The population in our genetic algorithm will be a *nested list*.  Each entry in the population will represent an individual by having two elements:\n",
    "  - A string with the characters for the individual.\n",
    "  - An integer indicating the individual's fitness value (as per `evaluate_fitness`).\n",
    "  \n",
    "For example the following `List` represents a small population of individuals with size 6 and an alphabet of `'ABC '`:\n",
    "```\n",
    "[['ABC BA', 0], ['CA CAB', 0], ['B ABBB', 0], ['AA CAC', 0]]\n",
    "```\n",
    "\n",
    "Note that initially the fitness values of all of the individuals will be 0."
   ]
  },
  {
   "cell_type": "markdown",
   "metadata": {},
   "source": [
    "__Q18:__ Write a statement that creates a two-element `List` representing a single individual.  The individual should have size 10 and be generated from your `gene_alphabet` using your `make_individual` function.  Set the fitness of the individual to be 0."
   ]
  },
  {
   "cell_type": "code",
   "execution_count": null,
   "metadata": {},
   "outputs": [],
   "source": []
  },
  {
   "cell_type": "markdown",
   "metadata": {},
   "source": [
    "__Q19:__ Write a function named `make_population` that creates the initial population for the genetic algorithm.  Your `make_population` function should accept three arguments:\n",
    "  - the number of individuals that should be in the population.\n",
    "  - the size of the individuals (i.e. the number of characters).\n",
    "  - the alphabet to be used to form the individuals.\n",
    "  \n",
    "This function should return a `List` containing containing the specified number of individuals.  Each individual should be random and should have fitness 0."
   ]
  },
  {
   "cell_type": "code",
   "execution_count": null,
   "metadata": {},
   "outputs": [],
   "source": []
  },
  {
   "cell_type": "markdown",
   "metadata": {},
   "source": [
    "__Q20:__ Write statements that use your `make_population` function to create a population of 5 individuals, each with size 6 and formed from the alphabet `ABC ` and then print out the population.  Check the `List` carefully to ensure that it has the proper format and that every individual has a fitness of 0."
   ]
  },
  {
   "cell_type": "code",
   "execution_count": null,
   "metadata": {},
   "outputs": [],
   "source": []
  },
  {
   "cell_type": "markdown",
   "metadata": {},
   "source": [
    "### Applying the Fitness Function\n",
    "\n",
    "Now that we have a *population* it is necessary to determine the *fitness* of each individual in the population so that that information can be used to select parents."
   ]
  },
  {
   "cell_type": "markdown",
   "metadata": {},
   "source": [
    "__Q21:__ Write statements that use your `evaluate_fitness` function to assign the correct fitness to the individual at index `0` in the population you created in __Q20__. Use the string `ABCABC` as the target string for evaluating the fitness.  Print out the population and ensure that the fitness of the individual was set correctly."
   ]
  },
  {
   "cell_type": "code",
   "execution_count": null,
   "metadata": {},
   "outputs": [],
   "source": []
  },
  {
   "cell_type": "markdown",
   "metadata": {},
   "source": [
    "__Q22:__ Repeat __Q21__ for the individual at index `2` in the population."
   ]
  },
  {
   "cell_type": "code",
   "execution_count": null,
   "metadata": {},
   "outputs": [],
   "source": []
  },
  {
   "cell_type": "markdown",
   "metadata": {},
   "source": [
    "__Q23:__ Write a function named `map_fitness` that has two parameters, a nested list representing the population and the target `String` for the evolution. This function should be fruitless, and should use `evaluate_fitness` to set the fitness value of each individual in the population."
   ]
  },
  {
   "cell_type": "code",
   "execution_count": null,
   "metadata": {},
   "outputs": [],
   "source": []
  },
  {
   "cell_type": "markdown",
   "metadata": {},
   "source": [
    "You can use the automated tests below to check that your `map_fitness` function is working correctly."
   ]
  },
  {
   "cell_type": "code",
   "execution_count": null,
   "metadata": {
    "deletable": false,
    "editable": false
   },
   "outputs": [],
   "source": [
    "test_pop = [['ABC BA', 0], ['CA CAB', 0], ['B ABBB', 0], ['AA CAC', 0]]\n",
    "map_fitness(test_pop, 'ABCABC')\n",
    "assert test_pop[0][1]==4, 'Wrong fitness for individual 0'\n",
    "assert test_pop[1][1]==0, 'Wrong fitness for individual 1'\n",
    "assert test_pop[2][1]==1, 'Wrong fitness for individual 2'\n",
    "assert test_pop[3][1]==2, 'Wrong fitness for individual 3'\n",
    "print('Success!')"
   ]
  },
  {
   "cell_type": "markdown",
   "metadata": {},
   "source": [
    "### Selection\n",
    "\n",
    "Now that we have a population of individuals, each with a fitness value, we can use those fitness value to select parents. When picking parents we need to ensure that individuals with higher fitness have a better chance of reproducing than those with lower fitness.  One easy way to do this is to pick two individuals at random from the population and then using the one with the larger fitness as a parent. "
   ]
  },
  {
   "cell_type": "markdown",
   "metadata": {},
   "source": [
    "__Q24:__ Write a function named `pick_parent` that takes a `List` representing a population as an argument and uses the above strategy to select a parent.  This function should return just the `String` part of individual that is to be used as a parent."
   ]
  },
  {
   "cell_type": "code",
   "execution_count": null,
   "metadata": {},
   "outputs": [],
   "source": []
  },
  {
   "cell_type": "markdown",
   "metadata": {},
   "source": [
    "__Q25:__ Write statements that pick two parents from the `test_pop` defined in the tests for __Q23__.  Assign these two individuals to variables and print them out."
   ]
  },
  {
   "cell_type": "code",
   "execution_count": null,
   "metadata": {},
   "outputs": [],
   "source": []
  },
  {
   "cell_type": "markdown",
   "metadata": {},
   "source": [
    "__Q26:__ Write statements that use your `reproduce` function to reproduce the two parents picked in __Q25__ with one mutation using the alphabet `'ABC '`. Print out the offspring that is created.  Run your statements several times to ensure that you get a variety of different offspring. "
   ]
  },
  {
   "cell_type": "code",
   "execution_count": null,
   "metadata": {},
   "outputs": [],
   "source": []
  },
  {
   "cell_type": "markdown",
   "metadata": {},
   "source": [
    "### Finding the Best Individual\n",
    "\n",
    "Since the point of the genetic algorithm is to find a solution to the target problem we will be interested in the individual in the population with the highest fitness.  That is the one with the most matches between the characters in the individual and the characters in the sonnet line. "
   ]
  },
  {
   "cell_type": "markdown",
   "metadata": {},
   "source": [
    "__Q27:__ Write a function `get_fittest` that takes the population as an argument and returns the sub-list for the individual that has the highest fitness."
   ]
  },
  {
   "cell_type": "code",
   "execution_count": null,
   "metadata": {},
   "outputs": [],
   "source": []
  },
  {
   "cell_type": "markdown",
   "metadata": {},
   "source": [
    "You can use the automated tests below to check that your function works correctly."
   ]
  },
  {
   "cell_type": "code",
   "execution_count": null,
   "metadata": {
    "deletable": false,
    "editable": false
   },
   "outputs": [],
   "source": [
    "test_pop = [['ABC BA', 4], ['CA CAB', 2], ['B ABBB', 1], ['AA CAC', 3]]\n",
    "assert get_fittest(test_pop)==['ABC BA', 4], 'Incorrect fittest individual'\n",
    "test_pop[1][1] = 5\n",
    "assert get_fittest(test_pop)==['CA CAB', 5], 'Incorrect fittest individual'\n",
    "test_pop[3][1] = 6\n",
    "assert get_fittest(test_pop)==['AA CAC', 6], 'Incorrect fittest individual'\n",
    "print('Success!')"
   ]
  },
  {
   "cell_type": "markdown",
   "metadata": {},
   "source": [
    "### Putting It All Together\n",
    "\n",
    "You have now built all of the pieces that we need to create a genetic algorithm that uses simulated evolution. You just need to put them together with a small program that runs the evolution."
   ]
  },
  {
   "cell_type": "markdown",
   "metadata": {},
   "source": [
    "__Q28:__ Open the file `sonnet_ga.py` in the JupyterLab editor. This file contains some code that will use the functions you have written evolve an individual that matches the sonnet line.  Copy and paste your functions into the `sonnet_ga.py` file at the top where indicated by the comments.  You'll need to paste in the following functions:\n",
    "  - `make_individual`\n",
    "  - `evaluate_fitness`\n",
    "  - `crossover`\n",
    "  - `mutate`\n",
    "  - `reproduce`\n",
    "  - `make_population`\n",
    "  - `map_fitness`\n",
    "  - `pick_parent`\n",
    "  - `get_best_individual`"
   ]
  },
  {
   "cell_type": "markdown",
   "metadata": {},
   "source": [
    "__Q29:__ Study the code in the `sonnet_ga.py` program and ensure that the calls it makes to your functions have the proper arguments in the order in which you defined them.  No written answer is necessary here."
   ]
  },
  {
   "cell_type": "markdown",
   "metadata": {},
   "source": [
    "__Q30:__ Run the `sonnet_ga.py` program from the Terminal.  No written answer is necessary here."
   ]
  },
  {
   "cell_type": "markdown",
   "metadata": {},
   "source": [
    "### Interpreting the Output"
   ]
  },
  {
   "cell_type": "markdown",
   "metadata": {},
   "source": [
    "__Q31:__ Copy the first line of output that is generated in the terminal here. Does this line resemble the sonnet line?"
   ]
  },
  {
   "cell_type": "markdown",
   "metadata": {},
   "source": []
  },
  {
   "cell_type": "markdown",
   "metadata": {},
   "source": [
    "__Q32:__ In what generation can you start to recognize bits of the sonnet line appearing?  Copy and paste one such line here."
   ]
  },
  {
   "cell_type": "markdown",
   "metadata": {},
   "source": []
  },
  {
   "cell_type": "markdown",
   "metadata": {},
   "source": [
    "__Q33:__ If you rerun the program do recognizable bits of the sonnet begin to appear in the same generation and in the same way every time?  Copy lines from a few runs that show the first recognizable bits of the sonnet."
   ]
  },
  {
   "cell_type": "markdown",
   "metadata": {},
   "source": []
  },
  {
   "cell_type": "markdown",
   "metadata": {},
   "source": [
    "__Q34:__ Does the genetic algorithm find the sonnet line in the same number of generations each time? Why do you think this is the case?"
   ]
  },
  {
   "cell_type": "markdown",
   "metadata": {},
   "source": []
  },
  {
   "cell_type": "markdown",
   "metadata": {},
   "source": [
    "__Q35:__ Is the genetic algorithm able to solve the problem if you give it a different sonnet line?  How did you test this?"
   ]
  },
  {
   "cell_type": "markdown",
   "metadata": {},
   "source": []
  },
  {
   "cell_type": "markdown",
   "metadata": {},
   "source": [
    "### Optional Challenge\n",
    "\n",
    "__Q36:__ Add code to the `sonnet_ga.py` file that creates a graph of the fitness value of the best individual versus generation."
   ]
  },
  {
   "cell_type": "markdown",
   "metadata": {},
   "source": [
    "### Additional Information\n",
    "\n",
    "If you are curious about genetic algorithms and want to read a little more there are a number of good introductory sites including:\n",
    "  - [Introduction to Genetic Algorithms — Including Example Code](https://towardsdatascience.com/introduction-to-genetic-algorithms-including-example-code-e396e98d8bf3) by Vijini Mallawaarachchi.\n",
    "  - [Introduction to Genetic Algorithm & their application in data science](https://www.analyticsvidhya.com/blog/2017/07/introduction-to-genetic-algorithm/) by Shubham Jain.\n",
    "\n",
    "A more thorough and academic presentation can be found here:\n",
    "  - [A Genetic Algorithm Tutorial](https://ibug.doc.ic.ac.uk/media/uploads/documents/courses/GeneticAlgorithm-tutorial.pdf) by Darrell Whitley in the Computer Science Department at Colorado State University.\n"
   ]
  }
 ],
 "metadata": {
  "kernelspec": {
   "display_name": "Python 3",
   "language": "python",
   "name": "python3"
  },
  "language_info": {
   "codemirror_mode": {
    "name": "ipython",
    "version": 3
   },
   "file_extension": ".py",
   "mimetype": "text/x-python",
   "name": "python",
   "nbconvert_exporter": "python",
   "pygments_lexer": "ipython3",
   "version": "3.7.3"
  }
 },
 "nbformat": 4,
 "nbformat_minor": 2
}
